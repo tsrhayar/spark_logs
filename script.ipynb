{
 "cells": [
  {
   "cell_type": "code",
   "execution_count": 27,
   "metadata": {},
   "outputs": [],
   "source": [
    "import pyspark.sql.functions as F\n",
    "from pyspark.sql import SparkSession\n",
    "from pyspark.sql.window import Window\n"
   ]
  },
  {
   "cell_type": "code",
   "execution_count": 28,
   "metadata": {},
   "outputs": [],
   "source": [
    "spark = SparkSession.builder.appName(\"LogAnalysis\").getOrCreate()\n",
    "\n",
    "log_df = spark.read.text(\"./Dlogs.txt\")\n"
   ]
  },
  {
   "cell_type": "code",
   "execution_count": 29,
   "metadata": {},
   "outputs": [],
   "source": [
    "log_df = log_df.select(\n",
    "    F.from_unixtime(F.unix_timestamp(F.split(F.col(\"value\"), \",\")[0], \"yyyy-MM-dd'T'HH:mm:ss'Z'\")).alias(\"timestamp\"),\n",
    "    F.split(F.col(\"value\"), \",\")[1].alias(\"ip_address\"),\n",
    "    F.split(F.col(\"value\"), \",\")[2].alias(\"request_method\"),\n",
    "    F.split(F.col(\"value\"), \",\")[3].alias(\"endpoint\"),\n",
    "    F.split(F.col(\"value\"), \",\")[4].cast(\"int\").alias(\"response_code\"),\n",
    "    F.split(F.col(\"value\"), \",\")[5].cast(\"int\").alias(\"response_time\")\n",
    ")"
   ]
  },
  {
   "cell_type": "code",
   "execution_count": 30,
   "metadata": {},
   "outputs": [
    {
     "name": "stdout",
     "output_type": "stream",
     "text": [
      "+---------+-----+\n",
      "| endpoint|count|\n",
      "+---------+-----+\n",
      "|    /home| 1279|\n",
      "| /contact| 1252|\n",
      "|   /about| 1238|\n",
      "|   /login| 1231|\n",
      "+---------+-----+\n",
      "\n"
     ]
    }
   ],
   "source": [
    "endpoint_counts = log_df.groupBy(\"endpoint\").count().orderBy(\"count\", ascending=False)\n",
    "\n",
    "endpoint_counts.show()"
   ]
  },
  {
   "cell_type": "code",
   "execution_count": 31,
   "metadata": {},
   "outputs": [
    {
     "name": "stdout",
     "output_type": "stream",
     "text": [
      "+----+--------------+-----+\n",
      "|hour|request_method|count|\n",
      "+----+--------------+-----+\n",
      "|  10|           GET|   54|\n",
      "|  13|           GET|   59|\n",
      "|   1|           PUT|   52|\n",
      "|   9|          POST|   53|\n",
      "|  20|           PUT|   53|\n",
      "|  19|           PUT|   47|\n",
      "|   2|           PUT|   37|\n",
      "|  20|        DELETE|   50|\n",
      "|  22|          POST|   51|\n",
      "|   1|          POST|   52|\n",
      "|   2|        DELETE|   42|\n",
      "|  15|          POST|   66|\n",
      "|  21|           PUT|   47|\n",
      "|   4|           PUT|   52|\n",
      "|  16|           GET|   46|\n",
      "|   4|           GET|   47|\n",
      "|  19|        DELETE|   41|\n",
      "|  22|           GET|   45|\n",
      "|  23|          POST|   52|\n",
      "|   7|          POST|   33|\n",
      "+----+--------------+-----+\n",
      "only showing top 20 rows\n",
      "\n"
     ]
    }
   ],
   "source": [
    "hourly_traffic = log_df.withColumn(\"hour\", F.hour(\"timestamp\")) \\\n",
    "                            .groupBy(\"hour\", \"request_method\") \\\n",
    "                            .count()\n",
    "\n",
    "hourly_traffic.show()"
   ]
  },
  {
   "cell_type": "code",
   "execution_count": 32,
   "metadata": {},
   "outputs": [
    {
     "name": "stdout",
     "output_type": "stream",
     "text": [
      "+---------+-----+\n",
      "| endpoint|count|\n",
      "+---------+-----+\n",
      "|   /login|  901|\n",
      "|    /home|  974|\n",
      "| /contact|  955|\n",
      "|   /about|  940|\n",
      "+---------+-----+\n",
      "\n"
     ]
    }
   ],
   "source": [
    "error_df = log_df.filter(F.col(\"response_code\").between(400, 599))\n",
    "\n",
    "error_by_endpoint = error_df.groupBy(\"endpoint\").count()\n",
    "\n",
    "error_by_endpoint.show()"
   ]
  },
  {
   "cell_type": "code",
   "execution_count": 33,
   "metadata": {},
   "outputs": [
    {
     "name": "stdout",
     "output_type": "stream",
     "text": [
      "+---------+------------------+\n",
      "| endpoint|avg(response_time)|\n",
      "+---------+------------------+\n",
      "| /contact|281.28514376996804|\n",
      "|    /home| 278.8835027365129|\n",
      "|   /login|270.77335499593823|\n",
      "|   /about| 266.4668820678514|\n",
      "+---------+------------------+\n",
      "\n"
     ]
    }
   ],
   "source": [
    "avg_response_times = log_df.groupBy(\"endpoint\").avg(\"response_time\")\n",
    "\n",
    "avg_response_times.orderBy(\"avg(response_time)\", ascending=False).show()"
   ]
  },
  {
   "cell_type": "code",
   "execution_count": 34,
   "metadata": {},
   "outputs": [
    {
     "name": "stdout",
     "output_type": "stream",
     "text": [
      "+--------------+-----+\n",
      "|    ip_address|count|\n",
      "+--------------+-----+\n",
      "| 192.168.1.105|   86|\n",
      "+--------------+-----+\n",
      "\n",
      "+-------------------+-----+\n",
      "|          timestamp|count|\n",
      "+-------------------+-----+\n",
      "|2023-12-25 00:00:06|    1|\n",
      "|2023-12-25 00:00:10|    1|\n",
      "|2023-12-25 00:00:17|    1|\n",
      "|2023-12-25 00:00:30|    1|\n",
      "|2023-12-25 00:00:39|    1|\n",
      "|2023-12-25 00:01:26|    1|\n",
      "|2023-12-25 00:02:22|    1|\n",
      "|2023-12-25 00:02:55|    1|\n",
      "|2023-12-25 00:03:09|    1|\n",
      "|2023-12-25 00:03:36|    1|\n",
      "|2023-12-25 00:04:26|    1|\n",
      "|2023-12-25 00:04:42|    1|\n",
      "|2023-12-25 00:05:19|    1|\n",
      "|2023-12-25 00:05:24|    1|\n",
      "|2023-12-25 00:05:33|    1|\n",
      "|2023-12-25 00:05:37|    1|\n",
      "|2023-12-25 00:05:44|    1|\n",
      "|2023-12-25 00:06:30|    1|\n",
      "|2023-12-25 00:07:12|    1|\n",
      "|2023-12-25 00:07:58|    1|\n",
      "+-------------------+-----+\n",
      "only showing top 20 rows\n",
      "\n"
     ]
    }
   ],
   "source": [
    "traffic_window = Window.partitionBy(\"ip_address\").orderBy(\"timestamp\")\n",
    "ip_traffic_analysis = log_df.withColumn(\"next_timestamp\", F.lead(\"timestamp\").over(traffic_window)) \\\n",
    "                            .withColumn(\"time_diff\", F.unix_timestamp(\"next_timestamp\") - F.unix_timestamp(\"timestamp\")) \\\n",
    "                            .filter(\"time_diff < 60\")  \n",
    "surge_traffic = ip_traffic_analysis.groupBy(\"ip_address\").count().filter(\"count > 20\") \n",
    "\n",
    "surge_traffic.show()\n",
    "\n",
    "error_window = Window.partitionBy().orderBy(\"timestamp\")\n",
    "error_analysis = error_df.withColumn(\"next_timestamp\", F.lead(\"timestamp\").over(error_window)) \\\n",
    "                         .withColumn(\"time_diff\", F.unix_timestamp(\"next_timestamp\") - F.unix_timestamp(\"timestamp\")) \\\n",
    "                         .filter(\"time_diff < 60\") \n",
    "high_error_rate = error_analysis.groupBy(\"timestamp\").count().filter(\"count > 0\") \n",
    "\n",
    "high_error_rate.show()"
   ]
  },
  {
   "cell_type": "code",
   "execution_count": null,
   "metadata": {},
   "outputs": [],
   "source": []
  }
 ],
 "metadata": {
  "kernelspec": {
   "display_name": "Python 3",
   "language": "python",
   "name": "python3"
  },
  "language_info": {
   "codemirror_mode": {
    "name": "ipython",
    "version": 3
   },
   "file_extension": ".py",
   "mimetype": "text/x-python",
   "name": "python",
   "nbconvert_exporter": "python",
   "pygments_lexer": "ipython3",
   "version": "3.11.7"
  }
 },
 "nbformat": 4,
 "nbformat_minor": 2
}
